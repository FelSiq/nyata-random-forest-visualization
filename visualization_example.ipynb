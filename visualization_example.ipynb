{
 "cells": [
  {
   "cell_type": "code",
   "execution_count": 1,
   "id": "emotional-walter",
   "metadata": {},
   "outputs": [],
   "source": [
    "# Nyata is not available as a Pip package\n",
    "import sys\n",
    "sys.path.append(\"./backend/\")\n",
    "import nyata"
   ]
  },
  {
   "cell_type": "code",
   "execution_count": 2,
   "id": "enhanced-whale",
   "metadata": {},
   "outputs": [],
   "source": [
    "import sklearn.ensemble\n",
    "import sklearn.datasets\n",
    "import sklearn.model_selection\n",
    "import sklearn.tree\n",
    "import sklearn.preprocessing\n",
    "import sklearn.impute\n",
    "import os\n",
    "import numpy as np\n",
    "\n",
    "try:\n",
    "    os.mkdir(\"pickles\")\n",
    "    \n",
    "except FileExistsError:\n",
    "    pass\n",
    "\n",
    "try:\n",
    "    os.mkdir(\"test_data\")\n",
    "    \n",
    "except FileExistsError:\n",
    "    pass"
   ]
  },
  {
   "cell_type": "markdown",
   "id": "korean-diploma",
   "metadata": {},
   "source": [
    "## 1. Building Classifiers"
   ]
  },
  {
   "cell_type": "code",
   "execution_count": 3,
   "id": "comfortable-employee",
   "metadata": {},
   "outputs": [],
   "source": [
    "# Building a scikit-learn forest model (also works with trees).\n",
    "dataset_cls = sklearn.datasets.load_iris()\n",
    "\n",
    "X_cls = dataset_cls.data\n",
    "y_cls = dataset_cls.target\n",
    "feat_names_cls = dataset_cls.feature_names\n",
    "\n",
    "(\n",
    "    X_train_cls,\n",
    "    X_test_cls,\n",
    "    y_train_cls,\n",
    "    y_test_cls,\n",
    ") = sklearn.model_selection.train_test_split(X_cls, y_cls, shuffle=True, random_state=16)\n",
    "\n",
    "# Saving a separated test dataset to show test the 'load test dataset' Nyata feature.\n",
    "np.savetxt(\n",
    "    \"test_data/test_data_classification.csv\",\n",
    "    np.column_stack((X_test_cls, y_test_cls)),\n",
    "    delimiter=\",\",\n",
    "    fmt=\"%.3f\",\n",
    ")"
   ]
  },
  {
   "cell_type": "markdown",
   "id": "static-netherlands",
   "metadata": {},
   "source": [
    "### Random Forest Classifiers"
   ]
  },
  {
   "cell_type": "code",
   "execution_count": 4,
   "id": "christian-conditions",
   "metadata": {},
   "outputs": [],
   "source": [
    "model = sklearn.ensemble.RandomForestClassifier(\n",
    "    n_estimators=np.random.randint(100, 301),\n",
    "    max_depth=np.random.randint(4, 8),\n",
    "    min_samples_split=np.random.randint(10, 25),\n",
    ")\n",
    "model.fit(X_train_cls, y_train_cls)\n",
    "\n",
    "# You can provide a fitted preprocessing pipeline (any scikit-learn\n",
    "# transformer or a sequence of transformers in a scikit-learn\n",
    "# Pipeline) through the 'preprocessing_pipeline' argument to transform\n",
    "# your test data before predicting with your model. This is useful,\n",
    "# for instance, to handle missing values before the predictions.\n",
    "preprocessing = sklearn.impute.SimpleImputer(strategy=\"mean\")\n",
    "preprocessing.fit(X_train_cls, y_train_cls)\n",
    "\n",
    "# Create a specific .pickle for Nyata input\n",
    "nyata.dump(\n",
    "    model=model,\n",
    "    preprocessing_pipeline=preprocessing,\n",
    "    output_uri=\"pickles/test_nyata_package_rfc_no_data.pickle\",\n",
    ")\n",
    "\n",
    "# The hierarchical clustering technique 'DNA' requires the training\n",
    "# data alongside the model, so we can also provide it through the\n",
    "# 'train_data' argument.\n",
    "nyata.dump(\n",
    "    model=model,\n",
    "    train_data=(X_train_cls, y_train_cls),\n",
    "    attr_labels=feat_names_cls,\n",
    "    preprocessing_pipeline=preprocessing,\n",
    "    output_uri=\"pickles/test_nyata_package_rfc.pickle\",\n",
    ")"
   ]
  },
  {
   "cell_type": "markdown",
   "id": "brazilian-reading",
   "metadata": {},
   "source": [
    "### Decision Tree Classifiers"
   ]
  },
  {
   "cell_type": "code",
   "execution_count": 5,
   "id": "necessary-rescue",
   "metadata": {},
   "outputs": [],
   "source": [
    "model = sklearn.tree.DecisionTreeClassifier(\n",
    "    max_depth=np.random.randint(4, 8),\n",
    "    min_samples_split=np.random.randint(10, 25),\n",
    ")\n",
    "model.fit(X_train_cls, y_train_cls)\n",
    "\n",
    "preprocessing = sklearn.impute.SimpleImputer(strategy=\"mean\")\n",
    "preprocessing.fit(X_train_cls, y_train_cls)\n",
    "\n",
    "# Create a specific .pickle for Nyata input\n",
    "nyata.dump(\n",
    "    model=model,\n",
    "    preprocessing_pipeline=preprocessing,\n",
    "    output_uri=\"pickles/test_nyata_package_dtc.pickle\",\n",
    ")"
   ]
  },
  {
   "cell_type": "markdown",
   "id": "animal-stocks",
   "metadata": {},
   "source": [
    "## 2. Build regressors"
   ]
  },
  {
   "cell_type": "code",
   "execution_count": 6,
   "id": "focused-subsection",
   "metadata": {},
   "outputs": [],
   "source": [
    "# Building a scikit-learn forest model (also works with trees).\n",
    "dataset_reg = sklearn.datasets.load_diabetes()\n",
    "\n",
    "X_reg = dataset_reg.data\n",
    "y_reg = dataset_reg.target\n",
    "feat_names_reg = dataset_reg.feature_names\n",
    "\n",
    "(\n",
    "    X_train_reg,\n",
    "    X_test_reg,\n",
    "    y_train_reg,\n",
    "    y_test_reg,\n",
    ") = sklearn.model_selection.train_test_split(X_reg, y_reg, shuffle=True, random_state=16)\n",
    "\n",
    "# Saving a separated test dataset to show test the 'load test dataset' Nyata feature.\n",
    "np.savetxt(\n",
    "    \"test_data/test_data_regression.csv\",\n",
    "    np.column_stack((X_test_reg, y_test_reg)),\n",
    "    delimiter=\",\",\n",
    "    fmt=\"%.3f\",\n",
    ")"
   ]
  },
  {
   "cell_type": "markdown",
   "id": "celtic-rates",
   "metadata": {},
   "source": [
    "### Random Forest Regressors"
   ]
  },
  {
   "cell_type": "code",
   "execution_count": 7,
   "id": "strong-saint",
   "metadata": {},
   "outputs": [],
   "source": [
    "model = sklearn.ensemble.RandomForestRegressor(\n",
    "    n_estimators=np.random.randint(100, 301),\n",
    "    max_depth=np.random.randint(4, 8),\n",
    "    min_samples_split=np.random.randint(10, 25),\n",
    ")\n",
    "model.fit(X_train_reg, y_train_reg)\n",
    "\n",
    "preprocessing = sklearn.impute.SimpleImputer(strategy=\"mean\")\n",
    "preprocessing.fit(X_train_reg, y_train_reg)\n",
    "\n",
    "nyata.dump(\n",
    "    model=model,\n",
    "    output_uri=\"pickles/test_nyata_package_rfr_no_data.pickle\",\n",
    "    preprocessing_pipeline=preprocessing,\n",
    ")\n",
    "\n",
    "# The hierarchical clustering technique 'DNA' requires the training\n",
    "# data alongside the model.\n",
    "nyata.dump(\n",
    "    model=model,\n",
    "    train_data=(X_train_reg, y_train_reg),\n",
    "    attr_labels=feat_names_reg,\n",
    "    output_uri=\"pickles/test_nyata_package_rfr.pickle\",\n",
    "    preprocessing_pipeline=preprocessing,\n",
    ")"
   ]
  },
  {
   "cell_type": "markdown",
   "id": "becoming-decimal",
   "metadata": {},
   "source": [
    "### Decision Tree Regressors"
   ]
  },
  {
   "cell_type": "code",
   "execution_count": 8,
   "id": "disturbed-syndicate",
   "metadata": {},
   "outputs": [],
   "source": [
    "model = sklearn.tree.DecisionTreeRegressor(\n",
    "    max_depth=np.random.randint(4, 8),\n",
    "    min_samples_split=np.random.randint(10, 25),\n",
    ")\n",
    "model.fit(X_train_reg, y_train_reg)\n",
    "\n",
    "preprocessing = sklearn.impute.SimpleImputer(strategy=\"mean\")\n",
    "preprocessing.fit(X_train_reg, y_train_reg)\n",
    "\n",
    "nyata.dump(\n",
    "    model=model,\n",
    "    output_uri=\"pickles/test_nyata_package_dtr.pickle\",\n",
    "    preprocessing_pipeline=preprocessing,\n",
    ")"
   ]
  }
 ],
 "metadata": {
  "kernelspec": {
   "display_name": "Python 3",
   "language": "python",
   "name": "python3"
  },
  "language_info": {
   "codemirror_mode": {
    "name": "ipython",
    "version": 3
   },
   "file_extension": ".py",
   "mimetype": "text/x-python",
   "name": "python",
   "nbconvert_exporter": "python",
   "pygments_lexer": "ipython3",
   "version": "3.9.5"
  }
 },
 "nbformat": 4,
 "nbformat_minor": 5
}
