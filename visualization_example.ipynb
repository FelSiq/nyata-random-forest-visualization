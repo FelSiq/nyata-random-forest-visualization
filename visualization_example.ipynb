{
 "cells": [
  {
   "cell_type": "code",
   "execution_count": 1,
   "id": "emotional-walter",
   "metadata": {},
   "outputs": [],
   "source": [
    "# Nyata is not available as a Pip package\n",
    "import sys\n",
    "sys.path.append(\"./backend/\")\n",
    "import nyata"
   ]
  },
  {
   "cell_type": "code",
   "execution_count": 2,
   "id": "enhanced-whale",
   "metadata": {},
   "outputs": [],
   "source": [
    "import sklearn.ensemble\n",
    "import sklearn.datasets\n",
    "import sklearn.model_selection\n",
    "import numpy as np"
   ]
  },
  {
   "cell_type": "code",
   "execution_count": 3,
   "id": "limiting-diesel",
   "metadata": {},
   "outputs": [],
   "source": [
    "# Building a scikit-learn forest model (also works with trees).\n",
    "X, y = sklearn.datasets.load_iris(return_X_y=True)\n",
    "X_train, X_test, y_train, y_test = sklearn.model_selection.train_test_split(X, y, shuffle=True, random_state=16)\n",
    "model = sklearn.ensemble.RandomForestClassifier(n_estimators=25).fit(X_train, y_train)"
   ]
  },
  {
   "cell_type": "code",
   "execution_count": 4,
   "id": "christian-conditions",
   "metadata": {},
   "outputs": [],
   "source": [
    "# Nyata accepts an specific pickle\n",
    "\n",
    "nyata.dump(\n",
    "    model=model,\n",
    "    train_data=(X_train, y_train),\n",
    "    attr_labels=\"infer\",\n",
    "    output_uri=\"test_nyata_package.pickle\",\n",
    ")"
   ]
  },
  {
   "cell_type": "code",
   "execution_count": 5,
   "id": "stupid-compromise",
   "metadata": {},
   "outputs": [],
   "source": [
    "# Saving a separated test dataset to show off the 'load test dataset'\n",
    "# feature of Nyata.\n",
    "np.savetxt(\"test_data.csv\", np.column_stack((X_test, y_test)), delimiter=\",\", fmt=\"%.3f\")"
   ]
  }
 ],
 "metadata": {
  "kernelspec": {
   "display_name": "Python 3",
   "language": "python",
   "name": "python3"
  },
  "language_info": {
   "codemirror_mode": {
    "name": "ipython",
    "version": 3
   },
   "file_extension": ".py",
   "mimetype": "text/x-python",
   "name": "python",
   "nbconvert_exporter": "python",
   "pygments_lexer": "ipython3",
   "version": "3.9.5"
  }
 },
 "nbformat": 4,
 "nbformat_minor": 5
}
